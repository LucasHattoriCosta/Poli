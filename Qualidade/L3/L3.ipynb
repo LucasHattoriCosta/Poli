{
 "cells": [
  {
   "cell_type": "code",
   "execution_count": 149,
   "metadata": {},
   "outputs": [],
   "source": [
    "import pandas as pd\n",
    "import numpy as np\n",
    "from scipy import stats\n",
    "\n",
    "import matplotlib.pyplot as plt\n",
    "import seaborn as sns\n",
    "\n",
    "try:\n",
    "    from tabulate import tabulate\n",
    "except NameError as e:\n",
    "    print('Falta uma biblioteca'+e)\n",
    "\n",
    "%matplotlib inline"
   ]
  },
  {
   "cell_type": "code",
   "execution_count": 22,
   "metadata": {},
   "outputs": [],
   "source": [
    "data = pd.read_csv('./data/data_01.csv', sep = ';', decimal = ',')"
   ]
  },
  {
   "cell_type": "code",
   "execution_count": 23,
   "metadata": {},
   "outputs": [
    {
     "data": {
      "text/plain": [
       "0    0.718\n",
       "1    0.712\n",
       "2    0.698\n",
       "3    0.710\n",
       "4    0.714\n",
       "5    0.712\n",
       "6    0.706\n",
       "7    0.708\n",
       "8    0.700\n",
       "9    0.713\n",
       "Name: m01, dtype: float64"
      ]
     },
     "execution_count": 23,
     "metadata": {},
     "output_type": "execute_result"
    }
   ],
   "source": [
    "data['m01']"
   ]
  },
  {
   "cell_type": "code",
   "execution_count": 24,
   "metadata": {},
   "outputs": [
    {
     "data": {
      "text/plain": [
       "Index(['i', 'D1', 'D2', 'D3', 'D4', 'D5', 'D6', 'D7', 'Dm', 's', 'R', 'D',\n",
       "       'EQM', 'm01', 'm02', 'm03', 'm04', 'm05', 'm06', 'm07', 'm08', 'm09',\n",
       "       'm10', 'd01', 'd02', 'd03', 'd04', 'd05', 'd06', 'd07', 'd08', 'd09',\n",
       "       'd10'],\n",
       "      dtype='object')"
      ]
     },
     "execution_count": 24,
     "metadata": {},
     "output_type": "execute_result"
    }
   ],
   "source": [
    "data.columns"
   ]
  },
  {
   "cell_type": "code",
   "execution_count": 25,
   "metadata": {},
   "outputs": [],
   "source": [
    "aneis = []\n",
    "for i in range(1,11):\n",
    "    aneis.append(f'Anel {i}')"
   ]
  },
  {
   "cell_type": "code",
   "execution_count": 52,
   "metadata": {},
   "outputs": [],
   "source": [
    "massa = data[['m01', 'm02', 'm03', 'm04', 'm05', 'm06', 'm07', 'm08', 'm09','m10']]\n",
    "massa.columns = aneis\n",
    "massa_concat = massa.reset_index().melt(id_vars = ['index'], value_vars = aneis).drop(columns = ['index']).set_index(['variable'])"
   ]
  },
  {
   "cell_type": "code",
   "execution_count": 163,
   "metadata": {},
   "outputs": [],
   "source": [
    "def gen_descriptive_stats(data, name):\n",
    "    if len(data.shape) == 1: # it's pd.Series\n",
    "        data = data.to_frame()\n",
    "    descriptive_stats = data.describe().T\n",
    "    descriptive_stats['amplitude'] = descriptive_stats['max'] - descriptive_stats['min']\n",
    "    for measure in data.columns:\n",
    "        descriptive_stats.loc[measure, 'mode'] = data[measure].mode()[0]\n",
    "        descriptive_stats.loc[measure, 'trim_mean 80%'] = stats.trim_mean(data[measure], 0.1)\n",
    "        descriptive_stats.loc[measure, 'median'] = data[measure].median()\n",
    "        descriptive_stats.loc[measure, 'variance'] = data[measure].var()\n",
    "        descriptive_stats.loc[measure, 'variation coeff'] = stats.variation(data[measure])\n",
    "        descriptive_stats.loc[measure, 'interquartile'] = stats.iqr(data[measure])\n",
    "        descriptive_stats.loc[measure, 'skewness'] = data[measure].skew()\n",
    "        descriptive_stats.loc[measure, 'kurtosis'] = data[measure].kurtosis()\n",
    "    try:\n",
    "        descriptive_stats_file = open(f'./tables/{name}_descriptive_stats.txt', 'w')\n",
    "        descriptive_stats_file.write(tabulate(descriptive_stats.T, descriptive_stats.T.columns, tablefmt='latex'))\n",
    "        descriptive_stats_file.close()\n",
    "        np.savetxt(f\"./tables/{name}_descriptive_stats_np.txt\", descriptive_stats.to_numpy(), delimiter=' & ', fmt='%2.2e', newline=' \\\\\\\\\\n')\n",
    "    except NameError as e:\n",
    "        print(e)\n",
    "        np.savetxt(f\"./tables/{name}_descriptive_stats_np.txt\", descriptive_stats.T.to_numpy(), delimiter=' & ', fmt='%2.2e', newline=' \\\\\\\\\\n')\n",
    "    return descriptive_stats.T"
   ]
  },
  {
   "cell_type": "code",
   "execution_count": 176,
   "metadata": {},
   "outputs": [],
   "source": [
    "name = 'AGORA_VAI'\n",
    "descriptive_stats_file = open(f'./tables/{name}_descriptive_stats.txt', 'w')\n",
    "descriptive_stats_file.write(tabulate(s, s.columns, tablefmt='latex'))\n",
    "descriptive_stats_file.close()"
   ]
  },
  {
   "cell_type": "code",
   "execution_count": 174,
   "metadata": {},
   "outputs": [],
   "source": [
    "s.columns = ['Massa', 'Diâmetro']"
   ]
  },
  {
   "cell_type": "code",
   "execution_count": 170,
   "metadata": {},
   "outputs": [],
   "source": [
    "b = gen_descriptive_stats(massa_concat, 'massa')"
   ]
  },
  {
   "cell_type": "code",
   "execution_count": 166,
   "metadata": {},
   "outputs": [],
   "source": [
    "diametro = data[['d01', 'd02', 'd03', 'd04', 'd05', 'd06', 'd07', 'd08', 'd09','d10']]\n",
    "diametro.columns = aneis\n",
    "diametro_concat = diametro.reset_index().melt(id_vars = ['index'], value_vars = aneis).drop(columns = ['index']).set_index(['variable'])"
   ]
  },
  {
   "cell_type": "code",
   "execution_count": 167,
   "metadata": {},
   "outputs": [
    {
     "data": {
      "text/html": [
       "<div>\n",
       "<style scoped>\n",
       "    .dataframe tbody tr th:only-of-type {\n",
       "        vertical-align: middle;\n",
       "    }\n",
       "\n",
       "    .dataframe tbody tr th {\n",
       "        vertical-align: top;\n",
       "    }\n",
       "\n",
       "    .dataframe thead th {\n",
       "        text-align: right;\n",
       "    }\n",
       "</style>\n",
       "<table border=\"1\" class=\"dataframe\">\n",
       "  <thead>\n",
       "    <tr style=\"text-align: right;\">\n",
       "      <th></th>\n",
       "      <th>value</th>\n",
       "    </tr>\n",
       "    <tr>\n",
       "      <th>variable</th>\n",
       "      <th></th>\n",
       "    </tr>\n",
       "  </thead>\n",
       "  <tbody>\n",
       "    <tr>\n",
       "      <th>Anel 1</th>\n",
       "      <td>20.27</td>\n",
       "    </tr>\n",
       "    <tr>\n",
       "      <th>Anel 1</th>\n",
       "      <td>20.62</td>\n",
       "    </tr>\n",
       "    <tr>\n",
       "      <th>Anel 1</th>\n",
       "      <td>19.46</td>\n",
       "    </tr>\n",
       "    <tr>\n",
       "      <th>Anel 1</th>\n",
       "      <td>20.09</td>\n",
       "    </tr>\n",
       "    <tr>\n",
       "      <th>Anel 1</th>\n",
       "      <td>19.77</td>\n",
       "    </tr>\n",
       "    <tr>\n",
       "      <th>...</th>\n",
       "      <td>...</td>\n",
       "    </tr>\n",
       "    <tr>\n",
       "      <th>Anel 10</th>\n",
       "      <td>20.78</td>\n",
       "    </tr>\n",
       "    <tr>\n",
       "      <th>Anel 10</th>\n",
       "      <td>20.95</td>\n",
       "    </tr>\n",
       "    <tr>\n",
       "      <th>Anel 10</th>\n",
       "      <td>20.73</td>\n",
       "    </tr>\n",
       "    <tr>\n",
       "      <th>Anel 10</th>\n",
       "      <td>20.13</td>\n",
       "    </tr>\n",
       "    <tr>\n",
       "      <th>Anel 10</th>\n",
       "      <td>19.83</td>\n",
       "    </tr>\n",
       "  </tbody>\n",
       "</table>\n",
       "<p>100 rows × 1 columns</p>\n",
       "</div>"
      ],
      "text/plain": [
       "          value\n",
       "variable       \n",
       "Anel 1    20.27\n",
       "Anel 1    20.62\n",
       "Anel 1    19.46\n",
       "Anel 1    20.09\n",
       "Anel 1    19.77\n",
       "...         ...\n",
       "Anel 10   20.78\n",
       "Anel 10   20.95\n",
       "Anel 10   20.73\n",
       "Anel 10   20.13\n",
       "Anel 10   19.83\n",
       "\n",
       "[100 rows x 1 columns]"
      ]
     },
     "execution_count": 167,
     "metadata": {},
     "output_type": "execute_result"
    }
   ],
   "source": [
    "diametro_concat"
   ]
  },
  {
   "cell_type": "code",
   "execution_count": 172,
   "metadata": {},
   "outputs": [],
   "source": [
    "s =a.merge(b, right_index = True, left_index = True, how = 'inner')"
   ]
  },
  {
   "cell_type": "code",
   "execution_count": 169,
   "metadata": {},
   "outputs": [],
   "source": [
    "a = gen_descriptive_stats(diametro_concat, 'diametro')"
   ]
  },
  {
   "cell_type": "code",
   "execution_count": 156,
   "metadata": {},
   "outputs": [
    {
     "data": {
      "image/png": "[encoded data removed]",
      "text/plain": [
       "<Figure size 504x288 with 1 Axes>"
      ]
     },
     "metadata": {
      "needs_background": "light"
     },
     "output_type": "display_data"
    },
    {
     "data": {
      "image/png": "[encoded data removed]",
      "text/plain": [
       "<Figure size 504x288 with 1 Axes>"
      ]
     },
     "metadata": {},
     "output_type": "display_data"
    }
   ],
   "source": [
    "plt.figure(figsize=(7, 4))\n",
    "sns.set_style(\"darkgrid\")\n",
    "\n",
    "# plt.hist(scaled_df['diam'], histtype = 'stepfilled')\n",
    "plt.hist(massa_concat['value'], bins=10, density=True, alpha=0.6, color = 'k')\n",
    "# Plot the PDF.\n",
    "xmin, xmax = plt.xlim()\n",
    "# plt.ylim(top=0.5)\n",
    "x = np.linspace(xmin, xmax, 100)\n",
    "mu, std = stats.norm.fit(massa_concat['value'])\n",
    "p = stats.norm.pdf(x, mu, std)\n",
    "plt.plot(x, p, 'k', linewidth=2)\n",
    "\n",
    "\n",
    "\n",
    "plt.title('Histogram para massa', fontsize = 20)\n",
    "plt.xlabel('Massa (g)', fontsize = 16)\n",
    "plt.savefig('./figures/hist_massa.png', dpi=500)\n",
    "plt.show()\n",
    "\n",
    "plt.figure(figsize=(7, 4))\n",
    "sns.set_style(\"darkgrid\")\n",
    "\n",
    "\n",
    "# plt.hist(scaled_df['diam'], histtype = 'stepfilled')\n",
    "plt.hist(diametro_concat['value'], bins=10, density=True, alpha=0.6, color = 'k')\n",
    "# Plot the PDF.\n",
    "xmin, xmax = plt.xlim()\n",
    "# plt.ylim(top=0.5)\n",
    "x = np.linspace(xmin, xmax, 100)\n",
    "mu, std = stats.norm.fit(diametro_concat['value'])\n",
    "p = stats.norm.pdf(x, mu, std)\n",
    "plt.plot(x, p, 'k', linewidth=2)\n",
    "\n",
    "\n",
    "plt.title('Histogram para diâmetro', fontsize = 20)\n",
    "plt.xlabel('Diâmetro', fontsize = 16)\n",
    "plt.savefig('./figures/hist_diametro.png', dpi=500)\n",
    "plt.show()"
   ]
  },
  {
   "cell_type": "code",
   "execution_count": 157,
   "metadata": {},
   "outputs": [],
   "source": [
    "dict_color = {\n",
    "    'Anel 1':'b',\n",
    "    'Anel 2':'g',\n",
    "    'Anel 3':'r',\n",
    "    'Anel 4':'c',\n",
    "    'Anel 5':'m',\n",
    "    'Anel 6':'y',\n",
    "    'Anel 7':'k',\n",
    "    'Anel 8':'w',\n",
    "    'Anel 9':'#20CEFF',\n",
    "    'Anel 10':'#91FE0D'\n",
    "} "
   ]
  },
  {
   "cell_type": "code",
   "execution_count": 158,
   "metadata": {},
   "outputs": [
    {
     "data": {
      "image/png": "[encoded data removed]",
      "text/plain": [
       "<Figure size 1440x792 with 1 Axes>"
      ]
     },
     "metadata": {},
     "output_type": "display_data"
    }
   ],
   "source": [
    "plt.figure(figsize=(20, 11))\n",
    "sns.set_style(\"darkgrid\")\n",
    "\n",
    "\n",
    "for anel in aneis:\n",
    "    massas = massa[anel]\n",
    "    diametros = diametro[anel]\n",
    "    \n",
    "    scatter_data = pd.DataFrame({'Massa':massas, 'Diametro':diametros})\n",
    "    plt.scatter(scatter_data['Massa'],scatter_data['Diametro'], c = dict_color[anel], linewidths = 1, edgecolors = 'k', label = anel)\n",
    "\n",
    "plt.title('Diagrama de dispersão', fontsize = 20)\n",
    "plt.xlabel('Massa (g)', fontsize = 16)\n",
    "plt.ylabel('Diâmetro (mm)', fontsize = 16)\n",
    "plt.legend(fontsize = 16)\n",
    "plt.savefig('./figures/diag_dispersao_grupo.png', dpi=500)\n",
    "plt.show()"
   ]
  },
  {
   "cell_type": "code",
   "execution_count": 159,
   "metadata": {},
   "outputs": [
    {
     "data": {
      "text/html": [
       "<div>\n",
       "<style scoped>\n",
       "    .dataframe tbody tr th:only-of-type {\n",
       "        vertical-align: middle;\n",
       "    }\n",
       "\n",
       "    .dataframe tbody tr th {\n",
       "        vertical-align: top;\n",
       "    }\n",
       "\n",
       "    .dataframe thead th {\n",
       "        text-align: right;\n",
       "    }\n",
       "</style>\n",
       "<table border=\"1\" class=\"dataframe\">\n",
       "  <thead>\n",
       "    <tr style=\"text-align: right;\">\n",
       "      <th></th>\n",
       "      <th>Anel 1</th>\n",
       "      <th>Anel 2</th>\n",
       "      <th>Anel 3</th>\n",
       "      <th>Anel 4</th>\n",
       "      <th>Anel 5</th>\n",
       "      <th>Anel 6</th>\n",
       "      <th>Anel 7</th>\n",
       "      <th>Anel 8</th>\n",
       "      <th>Anel 9</th>\n",
       "      <th>Anel 10</th>\n",
       "    </tr>\n",
       "  </thead>\n",
       "  <tbody>\n",
       "    <tr>\n",
       "      <th>0</th>\n",
       "      <td>20.27</td>\n",
       "      <td>20.50</td>\n",
       "      <td>20.70</td>\n",
       "      <td>20.57</td>\n",
       "      <td>20.73</td>\n",
       "      <td>20.12</td>\n",
       "      <td>20.32</td>\n",
       "      <td>20.41</td>\n",
       "      <td>20.16</td>\n",
       "      <td>20.76</td>\n",
       "    </tr>\n",
       "    <tr>\n",
       "      <th>1</th>\n",
       "      <td>20.62</td>\n",
       "      <td>21.22</td>\n",
       "      <td>20.83</td>\n",
       "      <td>20.34</td>\n",
       "      <td>20.53</td>\n",
       "      <td>20.25</td>\n",
       "      <td>20.84</td>\n",
       "      <td>20.91</td>\n",
       "      <td>20.25</td>\n",
       "      <td>20.91</td>\n",
       "    </tr>\n",
       "    <tr>\n",
       "      <th>2</th>\n",
       "      <td>19.46</td>\n",
       "      <td>19.46</td>\n",
       "      <td>20.31</td>\n",
       "      <td>20.50</td>\n",
       "      <td>20.53</td>\n",
       "      <td>19.43</td>\n",
       "      <td>19.76</td>\n",
       "      <td>20.70</td>\n",
       "      <td>20.69</td>\n",
       "      <td>19.43</td>\n",
       "    </tr>\n",
       "    <tr>\n",
       "      <th>3</th>\n",
       "      <td>20.09</td>\n",
       "      <td>20.26</td>\n",
       "      <td>20.82</td>\n",
       "      <td>20.29</td>\n",
       "      <td>20.68</td>\n",
       "      <td>20.16</td>\n",
       "      <td>20.16</td>\n",
       "      <td>21.12</td>\n",
       "      <td>20.15</td>\n",
       "      <td>20.44</td>\n",
       "    </tr>\n",
       "    <tr>\n",
       "      <th>4</th>\n",
       "      <td>19.77</td>\n",
       "      <td>20.22</td>\n",
       "      <td>19.37</td>\n",
       "      <td>20.25</td>\n",
       "      <td>20.23</td>\n",
       "      <td>19.36</td>\n",
       "      <td>19.73</td>\n",
       "      <td>19.75</td>\n",
       "      <td>19.72</td>\n",
       "      <td>20.06</td>\n",
       "    </tr>\n",
       "    <tr>\n",
       "      <th>5</th>\n",
       "      <td>20.69</td>\n",
       "      <td>20.47</td>\n",
       "      <td>21.23</td>\n",
       "      <td>20.98</td>\n",
       "      <td>20.41</td>\n",
       "      <td>20.46</td>\n",
       "      <td>21.38</td>\n",
       "      <td>20.30</td>\n",
       "      <td>20.55</td>\n",
       "      <td>20.78</td>\n",
       "    </tr>\n",
       "    <tr>\n",
       "      <th>6</th>\n",
       "      <td>19.35</td>\n",
       "      <td>19.85</td>\n",
       "      <td>20.85</td>\n",
       "      <td>20.16</td>\n",
       "      <td>19.51</td>\n",
       "      <td>20.67</td>\n",
       "      <td>20.90</td>\n",
       "      <td>19.96</td>\n",
       "      <td>19.78</td>\n",
       "      <td>20.95</td>\n",
       "    </tr>\n",
       "    <tr>\n",
       "      <th>7</th>\n",
       "      <td>21.09</td>\n",
       "      <td>20.71</td>\n",
       "      <td>20.85</td>\n",
       "      <td>20.93</td>\n",
       "      <td>19.82</td>\n",
       "      <td>20.84</td>\n",
       "      <td>20.84</td>\n",
       "      <td>20.72</td>\n",
       "      <td>19.97</td>\n",
       "      <td>20.73</td>\n",
       "    </tr>\n",
       "    <tr>\n",
       "      <th>8</th>\n",
       "      <td>20.20</td>\n",
       "      <td>20.63</td>\n",
       "      <td>20.64</td>\n",
       "      <td>19.98</td>\n",
       "      <td>20.17</td>\n",
       "      <td>20.67</td>\n",
       "      <td>20.09</td>\n",
       "      <td>20.31</td>\n",
       "      <td>20.57</td>\n",
       "      <td>20.13</td>\n",
       "    </tr>\n",
       "    <tr>\n",
       "      <th>9</th>\n",
       "      <td>20.03</td>\n",
       "      <td>20.58</td>\n",
       "      <td>20.48</td>\n",
       "      <td>20.36</td>\n",
       "      <td>20.28</td>\n",
       "      <td>20.20</td>\n",
       "      <td>19.91</td>\n",
       "      <td>19.96</td>\n",
       "      <td>20.45</td>\n",
       "      <td>19.83</td>\n",
       "    </tr>\n",
       "  </tbody>\n",
       "</table>\n",
       "</div>"
      ],
      "text/plain": [
       "   Anel 1  Anel 2  Anel 3  Anel 4  Anel 5  Anel 6  Anel 7  Anel 8  Anel 9  \\\n",
       "0   20.27   20.50   20.70   20.57   20.73   20.12   20.32   20.41   20.16   \n",
       "1   20.62   21.22   20.83   20.34   20.53   20.25   20.84   20.91   20.25   \n",
       "2   19.46   19.46   20.31   20.50   20.53   19.43   19.76   20.70   20.69   \n",
       "3   20.09   20.26   20.82   20.29   20.68   20.16   20.16   21.12   20.15   \n",
       "4   19.77   20.22   19.37   20.25   20.23   19.36   19.73   19.75   19.72   \n",
       "5   20.69   20.47   21.23   20.98   20.41   20.46   21.38   20.30   20.55   \n",
       "6   19.35   19.85   20.85   20.16   19.51   20.67   20.90   19.96   19.78   \n",
       "7   21.09   20.71   20.85   20.93   19.82   20.84   20.84   20.72   19.97   \n",
       "8   20.20   20.63   20.64   19.98   20.17   20.67   20.09   20.31   20.57   \n",
       "9   20.03   20.58   20.48   20.36   20.28   20.20   19.91   19.96   20.45   \n",
       "\n",
       "   Anel 10  \n",
       "0    20.76  \n",
       "1    20.91  \n",
       "2    19.43  \n",
       "3    20.44  \n",
       "4    20.06  \n",
       "5    20.78  \n",
       "6    20.95  \n",
       "7    20.73  \n",
       "8    20.13  \n",
       "9    19.83  "
      ]
     },
     "execution_count": 159,
     "metadata": {},
     "output_type": "execute_result"
    }
   ],
   "source": [
    "diametro"
   ]
  },
  {
   "cell_type": "code",
   "execution_count": null,
   "metadata": {},
   "outputs": [],
   "source": []
  },
  {
   "cell_type": "code",
   "execution_count": null,
   "metadata": {},
   "outputs": [],
   "source": []
  }
 ],
 "metadata": {
  "kernelspec": {
   "display_name": "Python 3",
   "language": "python",
   "name": "python3"
  },
  "language_info": {
   "codemirror_mode": {
    "name": "ipython",
    "version": 3
   },
   "file_extension": ".py",
   "mimetype": "text/x-python",
   "name": "python",
   "nbconvert_exporter": "python",
   "pygments_lexer": "ipython3",
   "version": "3.7.7"
  }
 },
 "nbformat": 4,
 "nbformat_minor": 4
}
