{
 "cells": [
  {
   "cell_type": "markdown",
   "metadata": {},
   "source": [
    "# Controle de LQ da Planta de Inércia\n",
    "## Lucas Hattori Costa - 10335847"
   ]
  },
  {
   "cell_type": "markdown",
   "metadata": {},
   "source": [
    "### Análise do sistema\n",
    "Dá-se o nome de planta de inércia aos sistemas cuja única resistência ao movimento é dada pela massa em translação ou pelos seus momentos de inércia, de forma que as equações de movimento se tornam: $m \\ddot{x}=f_{x} x t$ ou $J_{x} \\dot{w}_{x}=M_{G, x}^{e x t}(x, y, z)$. Logo, podemos entender as forças externas como parâmetros de controle, de forma que $ u = \\ddot{x} = \\frac{f_{ext}}{m}$.\n",
    "\n",
    "Logo, escrevemos o espaço de estados para o sistema:\n",
    "\n",
    "$\\left[\\begin{array}{l}\n",
    "\\dot{x}_{1} \\\\\n",
    "\\dot{x}_{2}\n",
    "\\end{array}\\right]=\\left[\\begin{array}{ll}\n",
    "0 & 1 \\\\\n",
    "0 & 0\n",
    "\\end{array}\\right]\\left[\\begin{array}{l}\n",
    "x_{1} \\\\\n",
    "x_{2}\n",
    "\\end{array}\\right]+\\left[\\begin{array}{l}\n",
    "0 \\\\\n",
    "1\n",
    "\\end{array}\\right] u$\n",
    "\n",
    "Resolvendo a equação de Riccati, podemos escrever as matrizes P, Q e R, e, em seguida, calcular o ganho K:\n",
    "\n",
    "$P=\\left[\\begin{array}{ll}\n",
    "1\n",
    "\\end{array}\\right] \\quad Q=\\left[\\begin{array}{ll}\n",
    "1 & 0 \\\\\n",
    "0 & \\mu\n",
    "\\end{array}\\right] \\quad R=\\left[\\begin{array}{cc}\n",
    "\\sqrt{\\mu+2} & 1 \\\\\n",
    "1 & \\sqrt{\\mu+2}\n",
    "\\end{array}\\right]$\n",
    "\n",
    "$K=P^{-1} B^{T} R = \\left[\\begin{array}{ll}\n",
    "1 & \\sqrt{\\mu+2}\n",
    "\\end{array}\\right]$\n",
    "\n",
    "Logo, com auxílio de um algoritmo em Python, podemos calcular a matriz K para as variações de valor de $\\mu$ entre os valores 0,1; 0,5; 1,0; 5,0 e 10,0."
   ]
  },
  {
   "cell_type": "code",
   "execution_count": 108,
   "metadata": {},
   "outputs": [],
   "source": [
    "# importando as bibliotecas utilizadas\n",
    "import numpy as np\n",
    "import scipy as scipy\n",
    "import matplotlib.pyplot as plt\n",
    "\n",
    "import control as ctr\n",
    "from control.matlab import *"
   ]
  },
  {
   "cell_type": "code",
   "execution_count": 79,
   "metadata": {},
   "outputs": [
    {
     "name": "stdout",
     "output_type": "stream",
     "text": [
      "Para o valor de mu=0.1 temos a matriz K=[1, 1.449137674618945]\n",
      "Para o valor de mu=0.5 temos a matriz K=[1, 1.5811388300841898]\n",
      "Para o valor de mu=1.0 temos a matriz K=[1, 1.7320508075688776]\n",
      "Para o valor de mu=5.0 temos a matriz K=[1, 2.6457513110645916]\n",
      "Para o valor de mu=10.0 temos a matriz K=[1, 3.464101615137754]\n"
     ]
    }
   ],
   "source": [
    "mu_s = [0.1, 0.5, 1.0, 5.0, 10.0]\n",
    "A = np.array([[0, 1],\n",
    "    [0, 0]])\n",
    "B = np.array([[0],[1]])\n",
    "P = np.array([1])\n",
    "\n",
    "for mu in mu_s:\n",
    "    Q = np.array([[1, 0],\n",
    "        [0, mu]])\n",
    "    K,R,E = ctr.lqr(A, B, Q, P)\n",
    "    K = K[0]\n",
    "    print(f'Para o valor de mu={mu} temos a matriz K=[1, {K.item(1)}]')"
   ]
  },
  {
   "cell_type": "markdown",
   "metadata": {},
   "source": [
    "Para se simular as respostas do sistema, calcula-se de forma iterativa, utilizando a matriz de transição $\\phi$ e a integral de convolução $\\Gamma$, de tal forma que:\n",
    "$\\begin{aligned}\n",
    "&\\phi(\\Delta t)=e^{A \\Delta t}=\\sum_{k=0}^{n-1} \\frac{A^{k} \\Delta t^{k}}{k !}\\\\\n",
    "&\\Gamma(\\Delta t)=\\int_{0}^{\\Delta t} \\phi(\\Delta t-\\tau) d \\tau=\\Delta t \\sum_{k=0}^{n-1} \\frac{A^{k} \\Delta t^{k}}{(k+1) !}\\\\\n",
    "&x_{i+1}=\\phi x_{i}+\\Gamma B u_{i}\n",
    "\\end{aligned}$\n",
    "\n",
    "Adotando $n=20$ e $\\Delta t =0,05s$ e $\\mu=10$ como exemplo:"
   ]
  },
  {
   "cell_type": "code",
   "execution_count": 80,
   "metadata": {},
   "outputs": [
    {
     "name": "stdout",
     "output_type": "stream",
     "text": [
      "A matriz de transicao calculada para mu=10.0 é: \n",
      "[[0.05256355 1.00379298]\n",
      " [0.05256355 0.05256355]]\n",
      "A integral de convolução é:\n",
      "[[0.00129246 0.05006303]\n",
      " [0.00129246 0.00129246]]\n"
     ]
    }
   ],
   "source": [
    "def _trans_conv(A, mu, delta_t = 0.05, n = 20):\n",
    "    transicao = np.zeros((A.shape))\n",
    "    convolucao = np.zeros((A.shape))\n",
    "    delta_t = 0.05\n",
    "\n",
    "    for n in range(20):\n",
    "        transicao += np.multiply(A^n, delta_t**n)/ np.math.factorial(n)\n",
    "        convolucao += np.multiply(A^n, delta_t**n)/ np.math.factorial(n+1)\n",
    "\n",
    "    convolucao = convolucao * delta_t\n",
    "    \n",
    "    print(f'A matriz de transicao calculada para mu={mu} é: \\n{transicao}\\nA integral de convolução é:\\n{convolucao}')\n",
    "\n",
    "_trans_conv(A, mu)"
   ]
  },
  {
   "cell_type": "code",
   "execution_count": 104,
   "metadata": {},
   "outputs": [],
   "source": [
    "tempo = np.arange(0,10,delta_t)"
   ]
  },
  {
   "cell_type": "code",
   "execution_count": 105,
   "metadata": {},
   "outputs": [],
   "source": [
    "def _resp(B, transicao, convolucao, K, tempo = tempo, x0 = [5, 0]):\n",
    "    x = np.zeros((B.shape[0],len(tempo)))\n",
    "    x[:,0] = x0\n",
    "    for i in range(len(tempo) - 1):\n",
    "        x[:,i+1] = np.dot(transicao, x[:,i]) + np.dot(np.dot(convolucao, B), np.dot(-K, x[:,i])).T\n",
    "    return x"
   ]
  },
  {
   "cell_type": "code",
   "execution_count": 110,
   "metadata": {},
   "outputs": [],
   "source": [
    "def _plot_resp(resp, tempo, mu):\n",
    "    fig = plt.figure(figsize = (20,20))\n",
    "    ax = plt.plot(resp[0], tempo)\n",
    "    \n",
    "    plt.show()\n",
    "\n",
    "# _plot_resp(_resp(B, transicao, convolucao, K, tempo = tempo, x0 = [5, 0]), tempo, '10')"
   ]
  },
  {
   "cell_type": "code",
   "execution_count": 113,
   "metadata": {},
   "outputs": [],
   "source": [
    "resp = _resp(B, transicao, convolucao, K, tempo = tempo, x0 = [5, 0])"
   ]
  },
  {
   "cell_type": "code",
   "execution_count": 115,
   "metadata": {},
   "outputs": [
    {
     "data": {
      "text/plain": [
       "array([5.00000000e+000, 1.25026044e-002, 2.12901047e-001, 1.13007793e-002,\n",
       "       9.61011161e-003, 9.65905523e-004, 4.56847084e-004, 6.41167420e-005,\n",
       "       2.26383215e-005, 3.86719574e-006, 1.15671019e-006, 2.22691176e-007,\n",
       "       6.03718951e-008, 1.25080930e-008, 3.19575654e-009, 6.92678343e-010,\n",
       "       1.70712168e-010, 3.80425636e-011, 9.17182005e-012, 2.07902184e-012,\n",
       "       4.94549047e-013, 1.13279890e-013, 2.67259197e-014, 6.16113286e-015,\n",
       "       1.44628702e-015, 3.34726115e-016, 7.83330041e-017, 1.81729888e-017,\n",
       "       4.24484169e-018, 9.86244150e-019, 2.30100306e-019, 5.35097829e-020,\n",
       "       1.24755054e-020, 2.90278587e-021, 6.76474408e-022, 1.57454769e-022,\n",
       "       3.66839960e-023, 8.54026849e-024, 1.98939738e-024, 4.63203516e-025,\n",
       "       1.07889327e-025, 2.51224936e-026, 5.85117110e-027, 1.36253563e-027,\n",
       "       3.17330366e-028, 7.38974500e-029, 1.72100938e-029, 4.00782610e-030,\n",
       "       9.33375805e-031, 2.17363670e-031, 5.06210186e-032, 1.17886543e-032,\n",
       "       2.74540145e-033, 6.39353442e-034, 1.48895381e-034, 3.46750805e-035,\n",
       "       8.07526596e-036, 1.88058843e-036, 4.37958126e-037, 1.01992897e-037,\n",
       "       2.37524511e-038, 5.53153960e-039, 1.28820308e-039, 3.00000570e-040,\n",
       "       6.98650969e-041, 1.62703954e-041, 3.78910133e-042, 8.82417516e-043,\n",
       "       2.05500170e-043, 4.78575126e-044, 1.11452075e-044, 2.59553039e-045,\n",
       "       6.04455229e-046, 1.40767407e-046, 3.27823529e-047, 7.63445607e-048,\n",
       "       1.77793592e-048, 4.14051240e-049, 9.64255420e-050, 2.24558799e-050,\n",
       "       5.22959521e-051, 1.21788439e-051, 2.83624707e-052, 6.60514036e-053,\n",
       "       1.53822564e-053, 3.58226771e-054, 8.34249648e-055, 1.94282653e-055,\n",
       "       4.52451485e-056, 1.05368309e-056, 2.45384996e-057, 5.71460211e-058,\n",
       "       1.33083432e-058, 3.09928835e-059, 7.21771912e-060, 1.68088488e-060,\n",
       "       3.91449699e-061, 9.11620235e-062, 2.12300956e-062, 4.94413070e-063,\n",
       "       1.15140454e-063, 2.68142670e-064, 6.24458991e-065, 1.45425952e-065,\n",
       "       3.38672481e-066, 7.88711008e-067, 1.83677473e-067, 4.27753812e-068,\n",
       "       9.96166383e-069, 2.31990326e-069, 5.40266287e-070, 1.25818893e-070,\n",
       "       2.93010953e-071, 6.82373021e-072, 1.58913152e-072, 3.70081891e-073,\n",
       "       8.61858219e-074, 2.00712223e-074, 4.67424868e-075, 1.08855357e-075,\n",
       "       2.53505742e-076, 5.90372057e-077, 1.37487681e-077, 3.20185588e-078,\n",
       "       7.45658157e-079, 1.73651191e-079, 4.04404295e-080, 9.41789301e-081,\n",
       "       2.19326822e-081, 5.10775125e-082, 1.18950900e-082, 2.77016556e-083,\n",
       "       6.45124772e-084, 1.50238664e-084, 3.49880473e-085, 8.14812529e-086,\n",
       "       1.89756076e-086, 4.41909853e-087, 1.02913341e-087, 2.39667790e-088,\n",
       "       5.58145804e-089, 1.29982731e-089, 3.02707827e-090, 7.04955404e-091,\n",
       "       1.64172207e-091, 3.82329343e-092, 8.90380466e-093, 2.07354572e-093,\n",
       "       4.82893778e-094, 1.12457805e-094, 2.61895235e-095, 6.09909769e-096,\n",
       "       1.42037684e-096, 3.30781777e-097, 7.70334891e-098, 1.79397986e-098,\n",
       "       4.17787609e-099, 9.72956779e-100, 2.26585201e-100, 5.27678665e-101,\n",
       "       1.22887449e-101, 2.86184113e-102, 6.66474465e-103, 1.55210646e-103,\n",
       "       3.61459381e-104, 8.41777851e-105, 1.96035844e-105, 4.56534372e-106,\n",
       "       1.06319145e-106, 2.47599331e-107, 5.76617024e-108, 1.34284366e-108,\n",
       "       3.12725609e-109, 7.28285125e-110, 1.69605305e-110, 3.94982111e-111,\n",
       "       9.19846625e-112, 2.14216743e-112, 4.98874615e-113, 1.16179472e-113,\n",
       "       2.70562368e-114, 6.30094060e-115, 1.46738265e-115, 3.41728635e-116,\n",
       "       7.95828274e-117, 1.85334964e-117, 4.31613829e-118, 1.00515571e-118,\n",
       "       2.34083789e-119, 5.45141608e-120, 1.26954273e-120, 2.95655061e-121,\n",
       "       6.88530702e-122, 1.60347172e-122, 3.73421481e-123, 8.69635560e-124,\n",
       "       2.02523434e-124, 4.71642873e-125, 1.09837659e-125, 2.55793358e-126])"
      ]
     },
     "execution_count": 115,
     "metadata": {},
     "output_type": "execute_result"
    }
   ],
   "source": [
    "plt.plot(resp, np)"
   ]
  }
 ],
 "metadata": {
  "kernelspec": {
   "display_name": "Python 3",
   "language": "python",
   "name": "python3"
  },
  "language_info": {
   "codemirror_mode": {
    "name": "ipython",
    "version": 3
   },
   "file_extension": ".py",
   "mimetype": "text/x-python",
   "name": "python",
   "nbconvert_exporter": "python",
   "pygments_lexer": "ipython3",
   "version": "3.7.7"
  }
 },
 "nbformat": 4,
 "nbformat_minor": 4
}
