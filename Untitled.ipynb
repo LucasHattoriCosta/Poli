{
 "cells": [
  {
   "cell_type": "code",
   "execution_count": 9,
   "metadata": {},
   "outputs": [
    {
     "name": "stdout",
     "output_type": "stream",
     "text": [
      "[['Fixo', 234567891017888], ['Funcionarios inativos', 21000], ['Funcionarios ativos', 29000], ['Diversos', 27400], ['Laboratorios', 19000]]\n"
     ]
    }
   ],
   "source": [
    "import json\n",
    "FAU = {\n",
    "    'Fixo':30234,\n",
    "    'Funcionarios inativos':21000,\n",
    "    'Funcionarios ativos':29000,\n",
    "    'Diversos':27400,\n",
    "    'Laboratorios':19000\n",
    "}\n",
    "FAU['Fixo'] += int(234567890987654)\n",
    "new_cost = json.dumps(FAU)\n",
    "list_key_value = [ [k,v] for k, v in FAU.items() ]\n",
    "print(list_key_value)"
   ]
  }
 ],
 "metadata": {
  "kernelspec": {
   "display_name": "Python 3",
   "language": "python",
   "name": "python3"
  },
  "language_info": {
   "codemirror_mode": {
    "name": "ipython",
    "version": 3
   },
   "file_extension": ".py",
   "mimetype": "text/x-python",
   "name": "python",
   "nbconvert_exporter": "python",
   "pygments_lexer": "ipython3",
   "version": "3.6.1"
  }
 },
 "nbformat": 4,
 "nbformat_minor": 2
}
