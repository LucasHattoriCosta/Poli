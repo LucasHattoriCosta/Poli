{
 "cells": [
  {
   "cell_type": "code",
   "execution_count": 1,
   "metadata": {
    "collapsed": true
   },
   "outputs": [],
   "source": [
    "import pandas as pd\n",
    "\n",
    "from sklearn.model_selection import train_test_split\n",
    "from sklearn.ensemble import RandomForestClassifier\n",
    "from sklearn.pipeline import Pipeline\n",
    "from sklearn.preprocessing import MinMaxScaler\n",
    "from category_encoders import BinaryEncoder\n",
    "from category_encoders.one_hot import OneHotEncoder\n",
    "from sklearn.base import TransformerMixin, ClassifierMixin\n",
    "from sklearn.metrics import roc_auc_score"
   ]
  },
  {
   "cell_type": "code",
   "execution_count": 2,
   "metadata": {
    "collapsed": true
   },
   "outputs": [],
   "source": [
    "def import_data():\n",
    "    train = pd.read_csv('data/_transacao_train.csv', index_col='ID')\n",
    "    train.rename(columns={'data': 'data_2', 'var10': 'var10_'}, inplace=True)\n",
    "\n",
    "    test = pd.read_csv('data/_transacao_test.csv', index_col='ID')\n",
    "    test.rename(columns={'data': 'data_2', 'var10': 'var10_'}, inplace=True)\n",
    "    \n",
    "    pessoas = pd.read_csv('data/_pessoas.csv', index_col='ID')\n",
    "    \n",
    "    train_ = train.join(pessoas)\n",
    "    X_train = train_.drop(columns='retorno')\n",
    "    y_train = train.retorno\n",
    "    \n",
    "    test_ = test.join(pessoas)\n",
    "    \n",
    "    X_train, X_val, y_train, y_val = train_test_split(X_train, y_train, test_size=0.2)\n",
    "    \n",
    "    return X_train, y_train, X_val, y_val, test"
   ]
  },
  {
   "cell_type": "code",
   "execution_count": 3,
   "metadata": {
    "collapsed": true
   },
   "outputs": [],
   "source": [
    "X_train, y_train, X_val, y_val, X_test = import_data()"
   ]
  },
  {
   "cell_type": "code",
   "execution_count": 4,
   "metadata": {},
   "outputs": [
    {
     "name": "stdout",
     "output_type": "stream",
     "text": [
      "X_train shape: (1551740, 43)\n",
      "X_val shape: (387936, 43)\n",
      "X_test shape: (100000, 3)\n"
     ]
    }
   ],
   "source": [
    "print('X_train shape:', X_train.shape)\n",
    "print('X_val shape:', X_val.shape)\n",
    "print('X_test shape:', X_test.shape)"
   ]
  },
  {
   "cell_type": "code",
   "execution_count": 5,
   "metadata": {},
   "outputs": [
    {
     "data": {
      "text/html": [
       "<div>\n",
       "<style scoped>\n",
       "    .dataframe tbody tr th:only-of-type {\n",
       "        vertical-align: middle;\n",
       "    }\n",
       "\n",
       "    .dataframe tbody tr th {\n",
       "        vertical-align: top;\n",
       "    }\n",
       "\n",
       "    .dataframe thead th {\n",
       "        text-align: right;\n",
       "    }\n",
       "</style>\n",
       "<table border=\"1\" class=\"dataframe\">\n",
       "  <thead>\n",
       "    <tr style=\"text-align: right;\">\n",
       "      <th></th>\n",
       "      <th>data_2</th>\n",
       "      <th>categoria</th>\n",
       "      <th>var10_</th>\n",
       "      <th>var1</th>\n",
       "      <th>grupo</th>\n",
       "      <th>var2</th>\n",
       "      <th>data</th>\n",
       "      <th>var3</th>\n",
       "      <th>var4</th>\n",
       "      <th>var5</th>\n",
       "      <th>...</th>\n",
       "      <th>var29</th>\n",
       "      <th>var30</th>\n",
       "      <th>var31</th>\n",
       "      <th>var32</th>\n",
       "      <th>var33</th>\n",
       "      <th>var34</th>\n",
       "      <th>var35</th>\n",
       "      <th>var36</th>\n",
       "      <th>var37</th>\n",
       "      <th>var38</th>\n",
       "    </tr>\n",
       "    <tr>\n",
       "      <th>ID</th>\n",
       "      <th></th>\n",
       "      <th></th>\n",
       "      <th></th>\n",
       "      <th></th>\n",
       "      <th></th>\n",
       "      <th></th>\n",
       "      <th></th>\n",
       "      <th></th>\n",
       "      <th></th>\n",
       "      <th></th>\n",
       "      <th></th>\n",
       "      <th></th>\n",
       "      <th></th>\n",
       "      <th></th>\n",
       "      <th></th>\n",
       "      <th></th>\n",
       "      <th></th>\n",
       "      <th></th>\n",
       "      <th></th>\n",
       "      <th></th>\n",
       "      <th></th>\n",
       "    </tr>\n",
       "  </thead>\n",
       "  <tbody>\n",
       "    <tr>\n",
       "      <th>cli_370459</th>\n",
       "      <td>2022-08-03</td>\n",
       "      <td>tipo2</td>\n",
       "      <td>type 1</td>\n",
       "      <td>tipo2</td>\n",
       "      <td>group 17304</td>\n",
       "      <td>tipo2</td>\n",
       "      <td>2020-11-26</td>\n",
       "      <td>tipo2</td>\n",
       "      <td>tipo7</td>\n",
       "      <td>tipo2</td>\n",
       "      <td>...</td>\n",
       "      <td>False</td>\n",
       "      <td>False</td>\n",
       "      <td>False</td>\n",
       "      <td>False</td>\n",
       "      <td>False</td>\n",
       "      <td>False</td>\n",
       "      <td>False</td>\n",
       "      <td>False</td>\n",
       "      <td>False</td>\n",
       "      <td>0</td>\n",
       "    </tr>\n",
       "    <tr>\n",
       "      <th>cli_111738</th>\n",
       "      <td>2023-03-23</td>\n",
       "      <td>tipo2</td>\n",
       "      <td>type 1</td>\n",
       "      <td>tipo2</td>\n",
       "      <td>group 22753</td>\n",
       "      <td>tipo3</td>\n",
       "      <td>2021-11-03</td>\n",
       "      <td>tipo2</td>\n",
       "      <td>tipo7</td>\n",
       "      <td>tipo2</td>\n",
       "      <td>...</td>\n",
       "      <td>False</td>\n",
       "      <td>False</td>\n",
       "      <td>False</td>\n",
       "      <td>False</td>\n",
       "      <td>False</td>\n",
       "      <td>False</td>\n",
       "      <td>False</td>\n",
       "      <td>False</td>\n",
       "      <td>False</td>\n",
       "      <td>66</td>\n",
       "    </tr>\n",
       "    <tr>\n",
       "      <th>cli_171061</th>\n",
       "      <td>2022-09-30</td>\n",
       "      <td>tipo4</td>\n",
       "      <td>type 166</td>\n",
       "      <td>tipo2</td>\n",
       "      <td>group 4742</td>\n",
       "      <td>tipo3</td>\n",
       "      <td>2022-08-09</td>\n",
       "      <td>tipo7</td>\n",
       "      <td>tipo6</td>\n",
       "      <td>tipo7</td>\n",
       "      <td>...</td>\n",
       "      <td>True</td>\n",
       "      <td>False</td>\n",
       "      <td>False</td>\n",
       "      <td>True</td>\n",
       "      <td>False</td>\n",
       "      <td>False</td>\n",
       "      <td>True</td>\n",
       "      <td>True</td>\n",
       "      <td>False</td>\n",
       "      <td>94</td>\n",
       "    </tr>\n",
       "    <tr>\n",
       "      <th>cli_295643</th>\n",
       "      <td>2023-03-02</td>\n",
       "      <td>tipo2</td>\n",
       "      <td>type 1</td>\n",
       "      <td>tipo2</td>\n",
       "      <td>group 17577</td>\n",
       "      <td>tipo3</td>\n",
       "      <td>2022-08-27</td>\n",
       "      <td>tipo40</td>\n",
       "      <td>tipo25</td>\n",
       "      <td>tipo9</td>\n",
       "      <td>...</td>\n",
       "      <td>False</td>\n",
       "      <td>False</td>\n",
       "      <td>False</td>\n",
       "      <td>True</td>\n",
       "      <td>False</td>\n",
       "      <td>True</td>\n",
       "      <td>False</td>\n",
       "      <td>False</td>\n",
       "      <td>False</td>\n",
       "      <td>88</td>\n",
       "    </tr>\n",
       "    <tr>\n",
       "      <th>cli_64887</th>\n",
       "      <td>2022-09-22</td>\n",
       "      <td>tipo3</td>\n",
       "      <td>type 23</td>\n",
       "      <td>tipo2</td>\n",
       "      <td>group 20472</td>\n",
       "      <td>tipo3</td>\n",
       "      <td>2020-11-06</td>\n",
       "      <td>tipo40</td>\n",
       "      <td>tipo25</td>\n",
       "      <td>tipo9</td>\n",
       "      <td>...</td>\n",
       "      <td>False</td>\n",
       "      <td>True</td>\n",
       "      <td>True</td>\n",
       "      <td>False</td>\n",
       "      <td>True</td>\n",
       "      <td>False</td>\n",
       "      <td>False</td>\n",
       "      <td>True</td>\n",
       "      <td>True</td>\n",
       "      <td>66</td>\n",
       "    </tr>\n",
       "  </tbody>\n",
       "</table>\n",
       "<p>5 rows × 43 columns</p>\n",
       "</div>"
      ],
      "text/plain": [
       "                data_2 categoria    var10_   var1        grupo   var2  \\\n",
       "ID                                                                      \n",
       "cli_370459  2022-08-03     tipo2    type 1  tipo2  group 17304  tipo2   \n",
       "cli_111738  2023-03-23     tipo2    type 1  tipo2  group 22753  tipo3   \n",
       "cli_171061  2022-09-30     tipo4  type 166  tipo2   group 4742  tipo3   \n",
       "cli_295643  2023-03-02     tipo2    type 1  tipo2  group 17577  tipo3   \n",
       "cli_64887   2022-09-22     tipo3   type 23  tipo2  group 20472  tipo3   \n",
       "\n",
       "                  data    var3    var4   var5  ...  var29  var30  var31  \\\n",
       "ID                                             ...                        \n",
       "cli_370459  2020-11-26   tipo2   tipo7  tipo2  ...  False  False  False   \n",
       "cli_111738  2021-11-03   tipo2   tipo7  tipo2  ...  False  False  False   \n",
       "cli_171061  2022-08-09   tipo7   tipo6  tipo7  ...   True  False  False   \n",
       "cli_295643  2022-08-27  tipo40  tipo25  tipo9  ...  False  False  False   \n",
       "cli_64887   2020-11-06  tipo40  tipo25  tipo9  ...  False   True   True   \n",
       "\n",
       "            var32  var33  var34  var35  var36  var37  var38  \n",
       "ID                                                           \n",
       "cli_370459  False  False  False  False  False  False      0  \n",
       "cli_111738  False  False  False  False  False  False     66  \n",
       "cli_171061   True  False  False   True   True  False     94  \n",
       "cli_295643   True  False   True  False  False  False     88  \n",
       "cli_64887   False   True  False  False   True   True     66  \n",
       "\n",
       "[5 rows x 43 columns]"
      ]
     },
     "execution_count": 5,
     "metadata": {},
     "output_type": "execute_result"
    }
   ],
   "source": [
    "X_train.head()"
   ]
  },
  {
   "cell_type": "code",
   "execution_count": 6,
   "metadata": {},
   "outputs": [
    {
     "name": "stdout",
     "output_type": "stream",
     "text": [
      "<class 'pandas.core.frame.DataFrame'>\n",
      "Index: 1551740 entries, cli_370459 to cli_276964\n",
      "Data columns (total 43 columns):\n",
      "data_2       1551740 non-null object\n",
      "categoria    1551740 non-null object\n",
      "var10_       1551740 non-null object\n",
      "var1         1551740 non-null object\n",
      "grupo        1551740 non-null object\n",
      "var2         1551740 non-null object\n",
      "data         1551740 non-null object\n",
      "var3         1551740 non-null object\n",
      "var4         1551740 non-null object\n",
      "var5         1551740 non-null object\n",
      "var6         1551740 non-null object\n",
      "var7         1551740 non-null object\n",
      "var8         1551740 non-null object\n",
      "var9         1551740 non-null object\n",
      "var10        1551740 non-null bool\n",
      "var11        1551740 non-null bool\n",
      "var12        1551740 non-null bool\n",
      "var13        1551740 non-null bool\n",
      "var14        1551740 non-null bool\n",
      "var15        1551740 non-null bool\n",
      "var16        1551740 non-null bool\n",
      "var17        1551740 non-null bool\n",
      "var18        1551740 non-null bool\n",
      "var19        1551740 non-null bool\n",
      "var20        1551740 non-null bool\n",
      "var21        1551740 non-null bool\n",
      "var22        1551740 non-null bool\n",
      "var23        1551740 non-null bool\n",
      "var24        1551740 non-null bool\n",
      "var25        1551740 non-null bool\n",
      "var26        1551740 non-null bool\n",
      "var27        1551740 non-null bool\n",
      "var28        1551740 non-null bool\n",
      "var29        1551740 non-null bool\n",
      "var30        1551740 non-null bool\n",
      "var31        1551740 non-null bool\n",
      "var32        1551740 non-null bool\n",
      "var33        1551740 non-null bool\n",
      "var34        1551740 non-null bool\n",
      "var35        1551740 non-null bool\n",
      "var36        1551740 non-null bool\n",
      "var37        1551740 non-null bool\n",
      "var38        1551740 non-null int64\n",
      "dtypes: bool(28), int64(1), object(14)\n",
      "memory usage: 230.9+ MB\n"
     ]
    }
   ],
   "source": [
    "X_train.info()"
   ]
  },
  {
   "cell_type": "code",
   "execution_count": 7,
   "metadata": {
    "collapsed": true
   },
   "outputs": [],
   "source": [
    "cat_columns = ['var' + str(n) for n in range(1, 10)] + ['grupo', 'var10_', 'categoria']"
   ]
  },
  {
   "cell_type": "code",
   "execution_count": 8,
   "metadata": {},
   "outputs": [
    {
     "name": "stdout",
     "output_type": "stream",
     "text": [
      "var1 number of categories: 2\n",
      "var2 number of categories: 3\n",
      "var3 number of categories: 43\n",
      "var4 number of categories: 25\n",
      "var5 number of categories: 9\n",
      "var6 number of categories: 7\n",
      "var7 number of categories: 25\n",
      "var8 number of categories: 8\n",
      "var9 number of categories: 9\n",
      "grupo number of categories: 26659\n",
      "var10_ number of categories: 6049\n",
      "categoria number of categories: 6\n"
     ]
    }
   ],
   "source": [
    "for col in cat_columns:\n",
    "    print(col, 'number of categories:', X_train[col].nunique())"
   ]
  },
  {
   "cell_type": "code",
   "execution_count": 9,
   "metadata": {
    "collapsed": true
   },
   "outputs": [],
   "source": [
    "cat_columns_ = [\n",
    "    'var1',\n",
    "    'var2',\n",
    "    'var5',\n",
    "    'var6',\n",
    "    'var8',\n",
    "    'var9',\n",
    "    'categoria'\n",
    "]"
   ]
  },
  {
   "cell_type": "code",
   "execution_count": 10,
   "metadata": {
    "collapsed": true
   },
   "outputs": [],
   "source": [
    "class Categorical(TransformerMixin):\n",
    "    def __init__(self, columns):\n",
    "        self.columns = columns\n",
    "    \n",
    "    def fit(self, df, _):\n",
    "        self.ohe = OneHotEncoder()\n",
    "        self.ohe.fit(df[self.columns])\n",
    "        return self\n",
    "    \n",
    "    def transform(self, df):\n",
    "        df_: pd.DataFrame = df.copy()\n",
    "        encoded = self.ohe.transform(df_[self.columns])\n",
    "        df_.drop(columns=self.columns, inplace=True)\n",
    "        df_ = pd.concat([df_, encoded], axis=1, sort=False)\n",
    "        return df_\n",
    "    \n",
    "\n",
    "class Binary(TransformerMixin):\n",
    "    def __init__(self):\n",
    "        self.columns = ['var' + str(n) for n in range(10, 38)]\n",
    "    \n",
    "    def fit(self, df, _):\n",
    "        return self\n",
    "    \n",
    "    def transform(self, df):\n",
    "        df_: pd.DataFrame = df.copy()\n",
    "        df_[self.columns] = df_[self.columns].astype('int')\n",
    "        return df_\n",
    "\n",
    "    \n",
    "class Normalize(TransformerMixin):\n",
    "    def __init__(self):\n",
    "        self.columns = ['var38']\n",
    "    \n",
    "    def fit(self, df, _):\n",
    "        self.norm = MinMaxScaler()\n",
    "        self.norm.fit(df[self.columns])\n",
    "        return self\n",
    "    \n",
    "    def transform(self, df):\n",
    "        df_: pd.DataFrame = df.copy()\n",
    "        df_[self.columns] = self.norm.transform(df_[self.columns])\n",
    "        return df_\n",
    "    \n",
    "    \n",
    "class Model_RF(ClassifierMixin):\n",
    "    def __init__(self):\n",
    "        self.model = RandomForestClassifier(\n",
    "            n_estimators=2000, \n",
    "            max_depth=10,\n",
    "            n_jobs=-1)\n",
    "\n",
    "    def fit(self, X_train, y_train):\n",
    "        self.model.fit(X_train, y_train)\n",
    "        return self\n",
    "    \n",
    "    def predict(self, X_test):\n",
    "        return self.model.predict(X_test)"
   ]
  },
  {
   "cell_type": "code",
   "execution_count": 11,
   "metadata": {
    "collapsed": true
   },
   "outputs": [],
   "source": [
    "pipeline = Pipeline([\n",
    "    ('one_hot_encoder', Categorical(cat_columns_)),\n",
    "    ('binary_encoder', Binary()),\n",
    "    ('norm', Normalize()),\n",
    "    ('model_rf', Model_RF())] \n",
    ")"
   ]
  },
  {
   "cell_type": "code",
   "execution_count": 12,
   "metadata": {},
   "outputs": [
    {
     "data": {
      "text/plain": [
       "Pipeline(memory=None,\n",
       "         steps=[('one_hot_encoder',\n",
       "                 <__main__.Categorical object at 0x12f43a610>),\n",
       "                ('binary_encoder', <__main__.Binary object at 0x12f43ae90>),\n",
       "                ('norm', <__main__.Normalize object at 0x1340ca890>),\n",
       "                ('model_rf', <__main__.Model_RF object at 0x130efee10>)],\n",
       "         verbose=False)"
      ]
     },
     "execution_count": 12,
     "metadata": {},
     "output_type": "execute_result"
    }
   ],
   "source": [
    "pipeline.fit(\n",
    "    X_train.drop(columns=[\n",
    "        'data',\n",
    "        'data_2',\n",
    "        'var3',\n",
    "        'var4',\n",
    "        'var7',\n",
    "        'var10_',\n",
    "        'grupo'\n",
    "    ]), \n",
    "    y_train)"
   ]
  },
  {
   "cell_type": "code",
   "execution_count": 13,
   "metadata": {},
   "outputs": [
    {
     "data": {
      "text/plain": [
       "0.5037574044595248"
      ]
     },
     "execution_count": 13,
     "metadata": {},
     "output_type": "execute_result"
    }
   ],
   "source": [
    "pred_log = pipeline.predict(X_val.drop(columns=[\n",
    "        'data',\n",
    "        'data_2',\n",
    "        'var3',\n",
    "        'var4',\n",
    "        'var7',\n",
    "        'var10_',\n",
    "        'grupo'\n",
    "    ]))\n",
    "roc_auc_log = roc_auc_score(y_val, pred_log)\n",
    "roc_auc_log"
   ]
  },
  {
   "cell_type": "code",
   "execution_count": null,
   "metadata": {
    "collapsed": true
   },
   "outputs": [],
   "source": [
    "\n",
    "    "
   ]
  }
 ],
 "metadata": {
  "kernelspec": {
   "display_name": "Python 3",
   "language": "python",
   "name": "python3"
  },
  "language_info": {
   "codemirror_mode": {
    "name": "ipython",
    "version": 3
   },
   "file_extension": ".py",
   "mimetype": "text/x-python",
   "name": "python",
   "nbconvert_exporter": "python",
   "pygments_lexer": "ipython3",
   "version": "3.6.1"
  }
 },
 "nbformat": 4,
 "nbformat_minor": 4
}
