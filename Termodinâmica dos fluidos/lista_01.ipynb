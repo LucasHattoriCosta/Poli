{
 "cells": [
  {
   "cell_type": "code",
   "execution_count": 39,
   "metadata": {},
   "outputs": [],
   "source": [
    "import pandas as pd\n",
    "import matplotlib.pyplot as plt"
   ]
  },
  {
   "cell_type": "code",
   "execution_count": 2,
   "metadata": {
    "collapsed": true,
    "jupyter": {
     "outputs_hidden": true
    }
   },
   "outputs": [
    {
     "name": "stderr",
     "output_type": "stream",
     "text": [
      "C:\\Users\\Lucas\\Anaconda3\\lib\\site-packages\\statsmodels\\tools\\_testing.py:19: FutureWarning: pandas.util.testing is deprecated. Use the functions in the public API at pandas.testing instead.\n",
      "  import pandas.util.testing as tm\n"
     ]
    }
   ],
   "source": [
    "import seaborn as sns"
   ]
  },
  {
   "cell_type": "code",
   "execution_count": 10,
   "metadata": {},
   "outputs": [],
   "source": [
    "v_1 = 2776.38\n",
    "v_2 = 2875.27\n",
    "\n",
    "u_1 = 7.6133\n",
    "u_2 = 7.8342"
   ]
  },
  {
   "cell_type": "code",
   "execution_count": 11,
   "metadata": {},
   "outputs": [],
   "source": [
    "T_1 = 150\n",
    "T_2 = 200\n",
    "T_3 = 170"
   ]
  },
  {
   "cell_type": "code",
   "execution_count": 12,
   "metadata": {},
   "outputs": [],
   "source": [
    "u_3 = (u_2 - u_1)*(T_3 - T_1)/(T_2 - T_3) + u_1\n",
    "v_3 = (v_2 - v_1)*(T_3 - T_1)/(T_2 - T_3) + v_1"
   ]
  },
  {
   "cell_type": "code",
   "execution_count": 8,
   "metadata": {},
   "outputs": [
    {
     "name": "stdout",
     "output_type": "stream",
     "text": [
      "2632.9500000000003 u\n"
     ]
    }
   ],
   "source": [
    "print(u_3, 'u')"
   ]
  },
  {
   "cell_type": "code",
   "execution_count": 9,
   "metadata": {},
   "outputs": [
    {
     "name": "stdout",
     "output_type": "stream",
     "text": [
      "2.0936266666666667 v\n"
     ]
    }
   ],
   "source": [
    "print(v_3,'v')"
   ]
  },
  {
   "cell_type": "code",
   "execution_count": 13,
   "metadata": {},
   "outputs": [
    {
     "name": "stdout",
     "output_type": "stream",
     "text": [
      "7.760566666666667 s\n"
     ]
    }
   ],
   "source": [
    "print(u_3, 'sbb')"
   ]
  },
  {
   "cell_type": "code",
   "execution_count": 27,
   "metadata": {},
   "outputs": [
    {
     "data": {
      "text/plain": [
       "10028.662131162915"
      ]
     },
     "execution_count": 27,
     "metadata": {},
     "output_type": "execute_result"
    }
   ],
   "source": [
    "(4.3405 - 0.69833)*(4.3405/0.69833)*443"
   ]
  },
  {
   "cell_type": "code",
   "execution_count": 20,
   "metadata": {},
   "outputs": [
    {
     "data": {
      "text/plain": [
       "104.00000000000001"
      ]
     },
     "execution_count": 20,
     "metadata": {},
     "output_type": "execute_result"
    }
   ],
   "source": [
    "(0.520 - 0.312)*(0.520/0.312)*300"
   ]
  },
  {
   "cell_type": "code",
   "execution_count": 14,
   "metadata": {},
   "outputs": [
    {
     "name": "stdout",
     "output_type": "stream",
     "text": [
      "2842.306666666667 h\n"
     ]
    }
   ],
   "source": [
    "print(v_3, 'h')"
   ]
  },
  {
   "cell_type": "code",
   "execution_count": 64,
   "metadata": {},
   "outputs": [],
   "source": [
    "df = pd.read_csv('_termoflu.csv', sep =';')"
   ]
  },
  {
   "cell_type": "code",
   "execution_count": 66,
   "metadata": {},
   "outputs": [
    {
     "data": {
      "text/html": [
       "<div>\n",
       "<style scoped>\n",
       "    .dataframe tbody tr th:only-of-type {\n",
       "        vertical-align: middle;\n",
       "    }\n",
       "\n",
       "    .dataframe tbody tr th {\n",
       "        vertical-align: top;\n",
       "    }\n",
       "\n",
       "    .dataframe thead th {\n",
       "        text-align: right;\n",
       "    }\n",
       "</style>\n",
       "<table border=\"1\" class=\"dataframe\">\n",
       "  <thead>\n",
       "    <tr style=\"text-align: right;\">\n",
       "      <th></th>\n",
       "      <th>T (K)</th>\n",
       "      <th>cp_h2</th>\n",
       "      <th>cv_h2</th>\n",
       "      <th>cp_ar</th>\n",
       "      <th>cv_ar</th>\n",
       "      <th>cp_co2</th>\n",
       "      <th>cv_co2</th>\n",
       "    </tr>\n",
       "  </thead>\n",
       "  <tbody>\n",
       "    <tr>\n",
       "      <th>0</th>\n",
       "      <td>250</td>\n",
       "      <td>14.051</td>\n",
       "      <td>9.927</td>\n",
       "      <td>1.003</td>\n",
       "      <td>0.716</td>\n",
       "      <td>0.791</td>\n",
       "      <td>0.602</td>\n",
       "    </tr>\n",
       "    <tr>\n",
       "      <th>1</th>\n",
       "      <td>300</td>\n",
       "      <td>14.307</td>\n",
       "      <td>10.183</td>\n",
       "      <td>1.005</td>\n",
       "      <td>0.718</td>\n",
       "      <td>0.846</td>\n",
       "      <td>0.657</td>\n",
       "    </tr>\n",
       "    <tr>\n",
       "      <th>2</th>\n",
       "      <td>350</td>\n",
       "      <td>14.427</td>\n",
       "      <td>10.302</td>\n",
       "      <td>1.008</td>\n",
       "      <td>0.721</td>\n",
       "      <td>0.895</td>\n",
       "      <td>0.706</td>\n",
       "    </tr>\n",
       "    <tr>\n",
       "      <th>3</th>\n",
       "      <td>400</td>\n",
       "      <td>14.476</td>\n",
       "      <td>10.352</td>\n",
       "      <td>1.013</td>\n",
       "      <td>0.726</td>\n",
       "      <td>0.939</td>\n",
       "      <td>0.750</td>\n",
       "    </tr>\n",
       "    <tr>\n",
       "      <th>4</th>\n",
       "      <td>450</td>\n",
       "      <td>14.501</td>\n",
       "      <td>10.377</td>\n",
       "      <td>1.020</td>\n",
       "      <td>0.733</td>\n",
       "      <td>0.978</td>\n",
       "      <td>0.790</td>\n",
       "    </tr>\n",
       "    <tr>\n",
       "      <th>5</th>\n",
       "      <td>500</td>\n",
       "      <td>14.513</td>\n",
       "      <td>10.389</td>\n",
       "      <td>1.029</td>\n",
       "      <td>0.742</td>\n",
       "      <td>1.014</td>\n",
       "      <td>0.825</td>\n",
       "    </tr>\n",
       "    <tr>\n",
       "      <th>6</th>\n",
       "      <td>550</td>\n",
       "      <td>14.530</td>\n",
       "      <td>10.405</td>\n",
       "      <td>1.040</td>\n",
       "      <td>0.753</td>\n",
       "      <td>1.046</td>\n",
       "      <td>0.857</td>\n",
       "    </tr>\n",
       "    <tr>\n",
       "      <th>7</th>\n",
       "      <td>600</td>\n",
       "      <td>14.546</td>\n",
       "      <td>10.422</td>\n",
       "      <td>1.051</td>\n",
       "      <td>0.764</td>\n",
       "      <td>1.075</td>\n",
       "      <td>0.886</td>\n",
       "    </tr>\n",
       "    <tr>\n",
       "      <th>8</th>\n",
       "      <td>650</td>\n",
       "      <td>14.571</td>\n",
       "      <td>10.447</td>\n",
       "      <td>1.063</td>\n",
       "      <td>0.776</td>\n",
       "      <td>1.102</td>\n",
       "      <td>0.913</td>\n",
       "    </tr>\n",
       "    <tr>\n",
       "      <th>9</th>\n",
       "      <td>700</td>\n",
       "      <td>14.604</td>\n",
       "      <td>10.480</td>\n",
       "      <td>1.075</td>\n",
       "      <td>0.788</td>\n",
       "      <td>1.126</td>\n",
       "      <td>0.937</td>\n",
       "    </tr>\n",
       "    <tr>\n",
       "      <th>10</th>\n",
       "      <td>750</td>\n",
       "      <td>14.645</td>\n",
       "      <td>10.521</td>\n",
       "      <td>1.087</td>\n",
       "      <td>0.800</td>\n",
       "      <td>1.148</td>\n",
       "      <td>0.959</td>\n",
       "    </tr>\n",
       "  </tbody>\n",
       "</table>\n",
       "</div>"
      ],
      "text/plain": [
       "    T (K)   cp_h2   cv_h2  cp_ar  cv_ar  cp_co2  cv_co2\n",
       "0     250  14.051   9.927  1.003  0.716   0.791   0.602\n",
       "1     300  14.307  10.183  1.005  0.718   0.846   0.657\n",
       "2     350  14.427  10.302  1.008  0.721   0.895   0.706\n",
       "3     400  14.476  10.352  1.013  0.726   0.939   0.750\n",
       "4     450  14.501  10.377  1.020  0.733   0.978   0.790\n",
       "5     500  14.513  10.389  1.029  0.742   1.014   0.825\n",
       "6     550  14.530  10.405  1.040  0.753   1.046   0.857\n",
       "7     600  14.546  10.422  1.051  0.764   1.075   0.886\n",
       "8     650  14.571  10.447  1.063  0.776   1.102   0.913\n",
       "9     700  14.604  10.480  1.075  0.788   1.126   0.937\n",
       "10    750  14.645  10.521  1.087  0.800   1.148   0.959"
      ]
     },
     "execution_count": 66,
     "metadata": {},
     "output_type": "execute_result"
    }
   ],
   "source": [
    "df"
   ]
  },
  {
   "cell_type": "code",
   "execution_count": 48,
   "metadata": {},
   "outputs": [],
   "source": [
    "df['cv_ar'] = df['cv_ar']/1000"
   ]
  },
  {
   "cell_type": "code",
   "execution_count": 67,
   "metadata": {},
   "outputs": [],
   "source": [
    "df['r_h2'] = df['cp_h2'] - df['cv_h2']\n",
    "df['r_ar'] = df['cp_ar'] - df['cv_ar']\n",
    "df['r_co2'] = df['cp_co2'] - df['cv_co2']"
   ]
  },
  {
   "cell_type": "code",
   "execution_count": 101,
   "metadata": {},
   "outputs": [],
   "source": [
    "df[['a_h2', 'a_ar', 'a_co2']].to_csv('fe.csv', index = False)"
   ]
  },
  {
   "cell_type": "code",
   "execution_count": 52,
   "metadata": {},
   "outputs": [],
   "source": [
    "import numpy as np"
   ]
  },
  {
   "cell_type": "code",
   "execution_count": 61,
   "metadata": {},
   "outputs": [
    {
     "data": {
      "text/plain": [
       "38.200930234968936"
      ]
     },
     "execution_count": 61,
     "metadata": {},
     "output_type": "execute_result"
    }
   ],
   "source": [
    "np.sqrt((14.051/9.927) * 4.124 * 250)"
   ]
  },
  {
   "cell_type": "code",
   "execution_count": 72,
   "metadata": {},
   "outputs": [],
   "source": [
    "plotable = df[['a_h2', 'a_ar', 'a_co2']]"
   ]
  },
  {
   "cell_type": "code",
   "execution_count": 69,
   "metadata": {},
   "outputs": [],
   "source": [
    "df['a_h2'] = df.apply(lambda row: np.sqrt((row['cp_h2']/row['cv_h2']) * (row['r_h2']) * row['T (K)']), axis = 1)\n",
    "df['a_ar'] = df.apply(lambda row: np.sqrt((row['cp_ar']/row['cv_ar']) * (row['r_ar']) * row['T (K)']), axis = 1)\n",
    "df['a_co2'] = df.apply(lambda row: np.sqrt((row['cp_co2']/row['cv_co2']) * (row['r_co2']) * row['T (K)']), axis = 1)"
   ]
  },
  {
   "cell_type": "code",
   "execution_count": 80,
   "metadata": {},
   "outputs": [],
   "source": [
    "from sklearn.linear_model import LinearRegression"
   ]
  },
  {
   "cell_type": "code",
   "execution_count": 83,
   "metadata": {},
   "outputs": [],
   "source": [
    "h2_regressor = LinearRegression()  # create object for the class\n",
    "h2_regressor.fit(df['T (K)'].values.reshape(-1, 1), df['a_h2'].values.reshape(-1, 1))  # perform linear regression\n",
    "h2_pred = h2_regressor.predict(df['T (K)'].values.reshape(-1, 1))  # make predictions"
   ]
  },
  {
   "cell_type": "code",
   "execution_count": 86,
   "metadata": {},
   "outputs": [],
   "source": [
    "ar_regressor = LinearRegression()  # create object for the class\n",
    "ar_regressor.fit(df['T (K)'].values.reshape(-1, 1), df['a_ar'].values.reshape(-1, 1))  # perform linear regression\n",
    "ar_pred = ar_regressor.predict(df['T (K)'].values.reshape(-1, 1))  # make predictions"
   ]
  },
  {
   "cell_type": "code",
   "execution_count": 87,
   "metadata": {},
   "outputs": [],
   "source": [
    "co2_regressor = LinearRegression()  # create object for the class\n",
    "co2_regressor.fit(df['T (K)'].values.reshape(-1, 1), df['a_co2'].values.reshape(-1, 1))  # perform linear regression\n",
    "co2_pred = co2_regressor.predict(df['T (K)'].values.reshape(-1, 1))  # make predictions"
   ]
  },
  {
   "cell_type": "code",
   "execution_count": 90,
   "metadata": {},
   "outputs": [
    {
     "data": {
      "text/plain": [
       "<Figure size 640x480 with 0 Axes>"
      ]
     },
     "execution_count": 90,
     "metadata": {},
     "output_type": "execute_result"
    },
    {
     "data": {
      "text/plain": [
       "<Figure size 640x480 with 0 Axes>"
      ]
     },
     "metadata": {},
     "output_type": "display_data"
    }
   ],
   "source": [
    "from matplotlib.pyplot import figure\n",
    "figure(num=None, figsize=(8, 6), dpi=80, facecolor='w', edgecolor='k')"
   ]
  },
  {
   "cell_type": "code",
   "execution_count": 99,
   "metadata": {},
   "outputs": [
    {
     "data": {
      "image/png": "[encoded data removed]",
      "text/plain": [
       "<Figure size 640x480 with 1 Axes>"
      ]
     },
     "metadata": {},
     "output_type": "display_data"
    }
   ],
   "source": [
    "figure(num=None, figsize=(8, 6), dpi=80, facecolor='w', edgecolor='k')\n",
    "plt.scatter(df['T (K)'], plotable['a_h2'], s=np.pi*3, c='k', alpha=0.5, label = 'a_h2')\n",
    "plt.plot(df['T (K)'], h2_pred, c='k')\n",
    "plt.scatter(df['T (K)'], plotable['a_ar'], s=np.pi*3, c='r', alpha=0.5, label = 'a_ar')\n",
    "plt.plot(df['T (K)'], ar_pred, c='r')\n",
    "plt.scatter(df['T (K)'], plotable['a_co2'], s=np.pi*3, c='b', alpha=0.5, label = 'a_co2')\n",
    "plt.plot(df['T (K)'], co2_pred, c='b')\n",
    "plt.title('Velocidades sônicas para diferentes gases a diferentes temperaturas')\n",
    "plt.xlabel('Temperatura (K)')\n",
    "plt.ylabel('Velocidade Sônica (m/s)')\n",
    "plt.legend()\n",
    "plt.savefig('velocidades.png')\n",
    "plt.show()"
   ]
  },
  {
   "cell_type": "code",
   "execution_count": 8,
   "metadata": {},
   "outputs": [
    {
     "data": {
      "text/plain": [
       "993.063649024295"
      ]
     },
     "execution_count": 8,
     "metadata": {},
     "output_type": "execute_result"
    }
   ],
   "source": [
    "1e5/(1.292 * 0.2598 * 300)"
   ]
  },
  {
   "cell_type": "code",
   "execution_count": 4,
   "metadata": {},
   "outputs": [
    {
     "data": {
      "text/plain": [
       "1355.5364040000002"
      ]
     },
     "execution_count": 4,
     "metadata": {},
     "output_type": "execute_result"
    }
   ],
   "source": [
    "1.042*(1300) - 0.2968*126.2*(0.02 - 0.045)"
   ]
  },
  {
   "cell_type": "code",
   "execution_count": 1,
   "metadata": {},
   "outputs": [
    {
     "data": {
      "text/plain": [
       "1198.08"
      ]
     },
     "execution_count": 1,
     "metadata": {},
     "output_type": "execute_result"
    }
   ],
   "source": [
    "0.9216*1300"
   ]
  },
  {
   "cell_type": "code",
   "execution_count": 2,
   "metadata": {},
   "outputs": [
    {
     "data": {
      "text/plain": [
       "860.6"
      ]
     },
     "execution_count": 2,
     "metadata": {},
     "output_type": "execute_result"
    }
   ],
   "source": [
    "1300 * 0.662"
   ]
  }
 ],
 "metadata": {
  "kernelspec": {
   "display_name": "Python 3",
   "language": "python",
   "name": "python3"
  },
  "language_info": {
   "codemirror_mode": {
    "name": "ipython",
    "version": 3
   },
   "file_extension": ".py",
   "mimetype": "text/x-python",
   "name": "python",
   "nbconvert_exporter": "python",
   "pygments_lexer": "ipython3",
   "version": "3.7.4"
  }
 },
 "nbformat": 4,
 "nbformat_minor": 4
}
